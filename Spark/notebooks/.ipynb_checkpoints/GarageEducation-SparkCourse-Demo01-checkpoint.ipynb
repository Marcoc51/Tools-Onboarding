{
 "cells": [
  {
   "cell_type": "markdown",
   "id": "0d25aa57-4615-4195-9997-15e329f57c8c",
   "metadata": {},
   "source": [
    "# Example 1: Immutable RDD"
   ]
  },
  {
   "cell_type": "code",
   "execution_count": 1,
   "id": "fba26352-dbab-4dad-97da-0f229553a207",
   "metadata": {},
   "outputs": [],
   "source": [
    "from pyspark import SparkContext\n",
    "\n",
    "# Create a SparkContext instance\n",
    "sc = SparkContext(\"local\", \"ExampleApp\")"
   ]
  },
  {
   "cell_type": "code",
   "execution_count": 2,
   "id": "b89d866d-742c-4aa5-a02b-0efcc0b6946e",
   "metadata": {},
   "outputs": [
    {
     "name": "stdout",
     "output_type": "stream",
     "text": [
      "Original RDD ID: 0\n"
     ]
    }
   ],
   "source": [
    "# Test the Spark immutable RDD\n",
    "numbers = [1, 2, 3, 4, 5]\n",
    "numbers_rdd = sc.parallelize(numbers)\n",
    "print(f\"Original RDD ID: {numbers_rdd.id()}\")"
   ]
  },
  {
   "cell_type": "code",
   "execution_count": 3,
   "id": "3f7cfb1d-2b25-4b18-953d-69619f7d2d34",
   "metadata": {},
   "outputs": [
    {
     "name": "stdout",
     "output_type": "stream",
     "text": [
      "Original RDD ID: 1\n"
     ]
    }
   ],
   "source": [
    "# Apply a transformation: multiply each number by 2\n",
    "transformed_rdd = numbers_rdd.map(lambda x: x * 2)\n",
    "print(f\"Original RDD ID: {transformed_rdd.id()}\")"
   ]
  },
  {
   "cell_type": "code",
   "execution_count": 4,
   "id": "66a2534d-0dcd-46ca-b96d-98f1f4b03385",
   "metadata": {},
   "outputs": [
    {
     "name": "stdout",
     "output_type": "stream",
     "text": [
      "Transformed RDD Result: [2, 4, 6, 8, 10]\n"
     ]
    }
   ],
   "source": [
    "# Collect the results to trigger the computation (Transformation)\n",
    "result = transformed_rdd.collect()\n",
    "print(f\"Transformed RDD Result: {result}\")"
   ]
  },
  {
   "cell_type": "markdown",
   "id": "a99a9f00-ae3c-45fa-acba-b3060f3c4dbc",
   "metadata": {},
   "source": [
    "# Example 2: Text Manipulation RDD"
   ]
  },
  {
   "cell_type": "code",
   "execution_count": 5,
   "id": "f283f86f-9153-4a62-bfc6-97bbb2734004",
   "metadata": {},
   "outputs": [
    {
     "name": "stdout",
     "output_type": "stream",
     "text": [
      "Original Text RDD Result: ['Hello Spark', 'Hello Scala', 'Hello World']\n"
     ]
    }
   ],
   "source": [
    "text = [\"Hello Spark\", \"Hello Scala\", \"Hello World\"]\n",
    "text_rdd = sc.parallelize(text)\n",
    "print(f\"Original Text RDD Result: {text_rdd.take(10)}\")"
   ]
  },
  {
   "cell_type": "code",
   "execution_count": 6,
   "id": "e7298490-d400-43a6-9cee-fa958bcc4771",
   "metadata": {},
   "outputs": [
    {
     "name": "stdout",
     "output_type": "stream",
     "text": [
      "Words RDD Result: ['Hello', 'Spark', 'Hello', 'Scala', 'Hello', 'World']\n"
     ]
    }
   ],
   "source": [
    "words_rdd = text_rdd.flatMap(lambda line: line.split(\" \"))\n",
    "print(f\"Words RDD Result: {words_rdd.take(10)}\")"
   ]
  },
  {
   "cell_type": "code",
   "execution_count": 7,
   "id": "b60c9867-ebc6-46da-92fb-7e4d8d0d4325",
   "metadata": {},
   "outputs": [
    {
     "name": "stdout",
     "output_type": "stream",
     "text": [
      "Upper Words RDD Result: ['HELLO', 'SPARK', 'HELLO', 'SCALA', 'HELLO', 'WORLD']\n"
     ]
    }
   ],
   "source": [
    "upper_words_rdd = words_rdd.map(lambda word: word.upper())\n",
    "print(f\"Upper Words RDD Result: {upper_words_rdd.take(10)}\")"
   ]
  },
  {
   "cell_type": "markdown",
   "id": "01049062-2cd3-44fe-bb27-454c249899e5",
   "metadata": {},
   "source": [
    "# Aggregation: groupByKey Vs. reduceByKey"
   ]
  },
  {
   "cell_type": "code",
   "execution_count": 8,
   "id": "afb8e529-56db-40e3-af3b-fe62a39bfb60",
   "metadata": {},
   "outputs": [
    {
     "name": "stdout",
     "output_type": "stream",
     "text": [
      "Original Pairs RDD Result: [('A', 1), ('B', 1), ('A', 2), ('B', 1), ('A', 3), ('A', 1), ('B', 1), ('A', 2), ('B', 1), ('A', 3)]\n"
     ]
    }
   ],
   "source": [
    "# Example 3: Group By Transformation\n",
    "pairs_rdd = sc.parallelize([(\"A\", 1), (\"B\", 1), (\"A\", 2), (\"B\", 1), (\"A\", 3)] * 5000000)\n",
    "print(f\"Original Pairs RDD Result: {pairs_rdd.take(10)}\")"
   ]
  },
  {
   "cell_type": "code",
   "execution_count": 9,
   "id": "7aefc04c-d8b5-4c25-a6b8-0d644f0b3e52",
   "metadata": {},
   "outputs": [
    {
     "name": "stdout",
     "output_type": "stream",
     "text": [
      "groupByKey duration: 6.9552 seconds\n",
      "Grouped RDD Result (sum): [('A', 30000000), ('B', 10000000)]\n"
     ]
    }
   ],
   "source": [
    "import time\n",
    "\n",
    "# Measure the performance of groupByKey and sum\n",
    "start_time = time.time()\n",
    "\n",
    "grouped_rdd = pairs_rdd.groupByKey().mapValues(lambda values: sum(values))\n",
    "grouped_result = grouped_rdd.collect()\n",
    "group_by_key_duration = time.time() - start_time\n",
    "\n",
    "print(f\"groupByKey duration: {group_by_key_duration:.4f} seconds\")\n",
    "print(f\"Grouped RDD Result (sum): {grouped_result[:10]}\")"
   ]
  },
  {
   "cell_type": "code",
   "execution_count": 10,
   "id": "d2a53b32-6fd3-4b3f-920d-b423b15adce1",
   "metadata": {},
   "outputs": [
    {
     "name": "stdout",
     "output_type": "stream",
     "text": [
      "reduceByKey duration: 5.6028 seconds\n",
      "Reduced RDD Result (sum): [('A', 30000000), ('B', 10000000)]\n"
     ]
    }
   ],
   "source": [
    "# Measure the performance of reduceByKey and sum\n",
    "reduce_start_time = time.time()\n",
    "\n",
    "reduced_rdd = pairs_rdd.reduceByKey(lambda x, y: x + y)\n",
    "reduced_result = reduced_rdd.collect()\n",
    "reduce_by_key_duration = time.time() - reduce_start_time\n",
    "\n",
    "print(f\"reduceByKey duration: {reduce_by_key_duration:.4f} seconds\")\n",
    "print(f\"Reduced RDD Result (sum): {reduced_result[:10]}\")"
   ]
  }
 ],
 "metadata": {
  "kernelspec": {
   "display_name": "Python 3 (ipykernel)",
   "language": "python",
   "name": "python3"
  },
  "language_info": {
   "codemirror_mode": {
    "name": "ipython",
    "version": 3
   },
   "file_extension": ".py",
   "mimetype": "text/x-python",
   "name": "python",
   "nbconvert_exporter": "python",
   "pygments_lexer": "ipython3",
   "version": "3.11.6"
  }
 },
 "nbformat": 4,
 "nbformat_minor": 5
}
