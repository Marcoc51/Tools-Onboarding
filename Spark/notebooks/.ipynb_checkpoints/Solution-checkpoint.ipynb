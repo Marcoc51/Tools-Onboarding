{
 "cells": [
  {
   "cell_type": "code",
   "execution_count": 1,
   "id": "dde65316-0f68-4a39-8302-2a3a24c582b7",
   "metadata": {},
   "outputs": [],
   "source": [
    "import pyspark\n",
    "from pyspark.sql import SparkSession\n",
    "from pyspark.sql.functions import col, to_date, unix_timestamp, max, count, min"
   ]
  },
  {
   "cell_type": "code",
   "execution_count": 2,
   "id": "b65967ee-1e40-4b22-ade3-afb4eb50078c",
   "metadata": {},
   "outputs": [],
   "source": [
    "# Create SparkSession\n",
    "spark = SparkSession.builder.master(\"local\").appName(\"SolutionApp\").getOrCreate()"
   ]
  },
  {
   "cell_type": "markdown",
   "id": "717346fa-82c4-4aa0-834d-9a3fbf4f1c2a",
   "metadata": {},
   "source": [
    "# Question 1: Install Spark and PySpark"
   ]
  },
  {
   "cell_type": "code",
   "execution_count": 3,
   "id": "6808240c-fdf4-4bad-85c5-bb0fc4f17a6f",
   "metadata": {},
   "outputs": [
    {
     "name": "stdout",
     "output_type": "stream",
     "text": [
      "3.5.0\n"
     ]
    }
   ],
   "source": [
    "print(spark.version)"
   ]
  },
  {
   "cell_type": "markdown",
   "id": "3cb5a89a-64cb-4505-91d7-2f54468ecdbb",
   "metadata": {},
   "source": [
    "# Question 2: Yellow October 2024"
   ]
  },
  {
   "cell_type": "code",
   "execution_count": 4,
   "id": "fef787ff-29ad-4972-a8f2-fcbb7e1b3e13",
   "metadata": {},
   "outputs": [],
   "source": [
    "# Read yellow trip data\n",
    "df = spark.read.parquet(\"Data/yellow_tripdata_2024-10.parquet\")"
   ]
  },
  {
   "cell_type": "code",
   "execution_count": 5,
   "id": "efd5334e-9ecf-41bb-9b2d-2c40309d207c",
   "metadata": {},
   "outputs": [
    {
     "name": "stdout",
     "output_type": "stream",
     "text": [
      "Initial Partitions: 1\n"
     ]
    }
   ],
   "source": [
    "# Initial number of partitions\n",
    "initial_partitions = df.rdd.getNumPartitions()\n",
    "print(f\"Initial Partitions: {initial_partitions}\")"
   ]
  },
  {
   "cell_type": "code",
   "execution_count": 6,
   "id": "def635df-c2e3-4fb6-af6e-d339b14b8d39",
   "metadata": {},
   "outputs": [
    {
     "name": "stdout",
     "output_type": "stream",
     "text": [
      "New Partitions after Repartition: 4\n"
     ]
    }
   ],
   "source": [
    "# Repartition to 4 partitions\n",
    "repartitioned_df = df.repartition(4)\n",
    "new_partitions = repartitioned_df.rdd.getNumPartitions()\n",
    "print(f\"New Partitions after Repartition: {new_partitions}\")"
   ]
  },
  {
   "cell_type": "code",
   "execution_count": 7,
   "id": "19fc9289-d77c-4289-8215-a7e143fcb080",
   "metadata": {},
   "outputs": [],
   "source": [
    "# Save the new partitioned yellow trip data \n",
    "repartitioned_df.write.parquet(\"yellow_tripdata/\", mode=\"overwrite\")"
   ]
  },
  {
   "cell_type": "markdown",
   "id": "0c40226a-9e36-452f-8040-4b522a0ceba0",
   "metadata": {},
   "source": [
    "# Question 3: Count records"
   ]
  },
  {
   "cell_type": "code",
   "execution_count": 8,
   "id": "1181db49-89f0-4c10-b1da-83e28fc7fa42",
   "metadata": {},
   "outputs": [
    {
     "data": {
      "text/plain": [
       "128893"
      ]
     },
     "execution_count": 8,
     "metadata": {},
     "output_type": "execute_result"
    }
   ],
   "source": [
    "# Count the taxi trips were there on the 15th of October\n",
    "df.filter(to_date(df.tpep_pickup_datetime) == \"2024-10-15\").count()"
   ]
  },
  {
   "cell_type": "markdown",
   "id": "760d66b8-86b7-420a-a0fc-03d2df80233c",
   "metadata": {},
   "source": [
    "# Question 4: Longest trip"
   ]
  },
  {
   "cell_type": "code",
   "execution_count": 9,
   "id": "490e7a3d-ce1b-46e6-96ec-e71f0bcbab6b",
   "metadata": {},
   "outputs": [
    {
     "name": "stdout",
     "output_type": "stream",
     "text": [
      "Longest trip duration: 162.61777777777777 hours\n"
     ]
    }
   ],
   "source": [
    "# Compute trip duration in hours and find the maximum\n",
    "longest_trip_hours = df \\\n",
    "    .withColumn(\"trip_duration_hours\", \n",
    "                (unix_timestamp(df.tpep_dropoff_datetime) - unix_timestamp(df.tpep_pickup_datetime)) / 3600) \\\n",
    "    .select(max(\"trip_duration_hours\")) \\\n",
    "    .collect()[0][0]\n",
    "\n",
    "print(f\"Longest trip duration: {longest_trip_hours} hours\")"
   ]
  },
  {
   "cell_type": "markdown",
   "id": "d18d7f0f-e46e-4502-81dc-c418820798c2",
   "metadata": {},
   "source": [
    "# Question 6: Least frequent pickup location zone"
   ]
  },
  {
   "cell_type": "code",
   "execution_count": 10,
   "id": "14639f43-f218-40d5-aad1-49db33c4fba9",
   "metadata": {},
   "outputs": [],
   "source": [
    "# Read taxi zones data\n",
    "zones_df = spark.read.option(\"header\", \"true\").csv(\"Data/taxi_zone_lookup.csv\")"
   ]
  },
  {
   "cell_type": "code",
   "execution_count": 11,
   "id": "15f744d5-2e67-4981-bd57-f2ba0d2d034f",
   "metadata": {},
   "outputs": [],
   "source": [
    "# Step 1: Join df with zones_df to get the Zone names\n",
    "joined_df = df.join(zones_df, df.PULocationID == zones_df.LocationID)"
   ]
  },
  {
   "cell_type": "code",
   "execution_count": 12,
   "id": "abb32e15-50f4-450c-9188-8b3e7a6d4feb",
   "metadata": {},
   "outputs": [
    {
     "name": "stdout",
     "output_type": "stream",
     "text": [
      "+--------------------+\n",
      "|                Zone|\n",
      "+--------------------+\n",
      "|Governor's Island...|\n",
      "+--------------------+\n",
      "\n"
     ]
    }
   ],
   "source": [
    "# Step 2: Count trips per Zone\n",
    "zone_counts = joined_df.groupBy(\"Zone\").agg(count(\"*\").alias(\"trip_count\"))\n",
    "\n",
    "# Step 3: Find the minimum trip count\n",
    "min_trip_count = zone_counts.agg(min(\"trip_count\")).collect()[0][0]\n",
    "\n",
    "# Step 4: Get the Zone with the minimum trip count\n",
    "least_frequent_zone = zone_counts.filter(col(\"trip_count\") == min_trip_count).select(\"Zone\")\n",
    "\n",
    "# Display the result\n",
    "least_frequent_zone.show()"
   ]
  }
 ],
 "metadata": {
  "kernelspec": {
   "display_name": "Python 3 (ipykernel)",
   "language": "python",
   "name": "python3"
  },
  "language_info": {
   "codemirror_mode": {
    "name": "ipython",
    "version": 3
   },
   "file_extension": ".py",
   "mimetype": "text/x-python",
   "name": "python",
   "nbconvert_exporter": "python",
   "pygments_lexer": "ipython3",
   "version": "3.11.6"
  }
 },
 "nbformat": 4,
 "nbformat_minor": 5
}
