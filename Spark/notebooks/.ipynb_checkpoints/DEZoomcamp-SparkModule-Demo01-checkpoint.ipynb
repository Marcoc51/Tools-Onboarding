{
 "cells": [
  {
   "cell_type": "code",
   "execution_count": 1,
   "id": "a467bc8c-9090-4ac9-ae7c-fbb7f716763e",
   "metadata": {},
   "outputs": [],
   "source": [
    "import pyspark\n",
    "from pyspark.sql import SparkSession"
   ]
  },
  {
   "cell_type": "code",
   "execution_count": 2,
   "id": "3ae71184-09c4-42f8-a97c-7b8556101af6",
   "metadata": {},
   "outputs": [],
   "source": [
    "# Create SparkSession\n",
    "spark = SparkSession.builder.master(\"local\").appName(\"ExampleSparkApp\").getOrCreate()"
   ]
  },
  {
   "cell_type": "code",
   "execution_count": 3,
   "id": "796e6cda-74b8-456b-b107-626b97c22b8b",
   "metadata": {},
   "outputs": [],
   "source": [
    "df = spark.read.option(\"header\", \"true\").csv(\"taxi_zone_lookup.csv\")"
   ]
  },
  {
   "cell_type": "code",
   "execution_count": 4,
   "id": "0e970f4b-5e7a-446f-9ed1-6edadb31d9d5",
   "metadata": {},
   "outputs": [
    {
     "name": "stdout",
     "output_type": "stream",
     "text": [
      "+----------+-------------+--------------------+------------+\n",
      "|LocationID|      Borough|                Zone|service_zone|\n",
      "+----------+-------------+--------------------+------------+\n",
      "|         1|          EWR|      Newark Airport|         EWR|\n",
      "|         2|       Queens|         Jamaica Bay|   Boro Zone|\n",
      "|         3|        Bronx|Allerton/Pelham G...|   Boro Zone|\n",
      "|         4|    Manhattan|       Alphabet City| Yellow Zone|\n",
      "|         5|Staten Island|       Arden Heights|   Boro Zone|\n",
      "|         6|Staten Island|Arrochar/Fort Wad...|   Boro Zone|\n",
      "|         7|       Queens|             Astoria|   Boro Zone|\n",
      "|         8|       Queens|        Astoria Park|   Boro Zone|\n",
      "|         9|       Queens|          Auburndale|   Boro Zone|\n",
      "|        10|       Queens|        Baisley Park|   Boro Zone|\n",
      "|        11|     Brooklyn|          Bath Beach|   Boro Zone|\n",
      "|        12|    Manhattan|        Battery Park| Yellow Zone|\n",
      "|        13|    Manhattan|   Battery Park City| Yellow Zone|\n",
      "|        14|     Brooklyn|           Bay Ridge|   Boro Zone|\n",
      "|        15|       Queens|Bay Terrace/Fort ...|   Boro Zone|\n",
      "|        16|       Queens|             Bayside|   Boro Zone|\n",
      "|        17|     Brooklyn|             Bedford|   Boro Zone|\n",
      "|        18|        Bronx|        Bedford Park|   Boro Zone|\n",
      "|        19|       Queens|           Bellerose|   Boro Zone|\n",
      "|        20|        Bronx|             Belmont|   Boro Zone|\n",
      "+----------+-------------+--------------------+------------+\n",
      "only showing top 20 rows\n",
      "\n"
     ]
    }
   ],
   "source": [
    "df.show()"
   ]
  },
  {
   "cell_type": "code",
   "execution_count": 5,
   "id": "b83883c4-5436-4edf-9a70-971ceb465136",
   "metadata": {},
   "outputs": [
    {
     "data": {
      "text/plain": [
       "[Row(LocationID='1', Borough='EWR', Zone='Newark Airport', service_zone='EWR'),\n",
       " Row(LocationID='2', Borough='Queens', Zone='Jamaica Bay', service_zone='Boro Zone'),\n",
       " Row(LocationID='3', Borough='Bronx', Zone='Allerton/Pelham Gardens', service_zone='Boro Zone'),\n",
       " Row(LocationID='4', Borough='Manhattan', Zone='Alphabet City', service_zone='Yellow Zone'),\n",
       " Row(LocationID='5', Borough='Staten Island', Zone='Arden Heights', service_zone='Boro Zone')]"
      ]
     },
     "execution_count": 5,
     "metadata": {},
     "output_type": "execute_result"
    }
   ],
   "source": [
    "df.head(5)"
   ]
  },
  {
   "cell_type": "code",
   "execution_count": 6,
   "id": "e948fa47-275a-4c1a-bfd8-6f9c794f77b5",
   "metadata": {},
   "outputs": [
    {
     "data": {
      "text/plain": [
       "StructType([StructField('LocationID', StringType(), True), StructField('Borough', StringType(), True), StructField('Zone', StringType(), True), StructField('service_zone', StringType(), True)])"
      ]
     },
     "execution_count": 6,
     "metadata": {},
     "output_type": "execute_result"
    }
   ],
   "source": [
    "df.schema"
   ]
  },
  {
   "cell_type": "code",
   "execution_count": 7,
   "id": "74501381-87d4-457b-85f5-ad19f643c428",
   "metadata": {},
   "outputs": [
    {
     "name": "stdout",
     "output_type": "stream",
     "text": [
      "Initial Partitions: 1\n"
     ]
    }
   ],
   "source": [
    "# Initial number of partitions\n",
    "initial_partitions = df.rdd.getNumPartitions()\n",
    "print(f\"Initial Partitions: {initial_partitions}\")"
   ]
  },
  {
   "cell_type": "code",
   "execution_count": 8,
   "id": "64612ab9-5850-403d-a29d-605c3615e421",
   "metadata": {},
   "outputs": [
    {
     "name": "stdout",
     "output_type": "stream",
     "text": [
      "New Partitions after Repartition: 20\n"
     ]
    }
   ],
   "source": [
    "# Repartition to 20 partitions\n",
    "repartitioned_df = df.repartition(20)\n",
    "new_partitions = repartitioned_df.rdd.getNumPartitions()\n",
    "print(f\"New Partitions after Repartition: {new_partitions}\")"
   ]
  },
  {
   "cell_type": "code",
   "execution_count": 9,
   "id": "c67f1960-052d-4814-a316-24505a024e0b",
   "metadata": {},
   "outputs": [],
   "source": [
    "df.write.parquet(\"taxi_zone_lookup/\", mode=\"overwrite\")"
   ]
  },
  {
   "cell_type": "code",
   "execution_count": 10,
   "id": "ff6a1a81-a902-436a-9c95-d16698ab43ad",
   "metadata": {},
   "outputs": [],
   "source": [
    "df = spark.read.parquet(\"taxi_zone_lookup/\")"
   ]
  },
  {
   "cell_type": "code",
   "execution_count": 11,
   "id": "f6fc6229-2830-4cf2-aa11-b2ee0d7f0359",
   "metadata": {},
   "outputs": [
    {
     "name": "stdout",
     "output_type": "stream",
     "text": [
      "+----------+-------------+--------------------+------------+\n",
      "|LocationID|      Borough|                Zone|service_zone|\n",
      "+----------+-------------+--------------------+------------+\n",
      "|         1|          EWR|      Newark Airport|         EWR|\n",
      "|         2|       Queens|         Jamaica Bay|   Boro Zone|\n",
      "|         3|        Bronx|Allerton/Pelham G...|   Boro Zone|\n",
      "|         4|    Manhattan|       Alphabet City| Yellow Zone|\n",
      "|         5|Staten Island|       Arden Heights|   Boro Zone|\n",
      "|         6|Staten Island|Arrochar/Fort Wad...|   Boro Zone|\n",
      "|         7|       Queens|             Astoria|   Boro Zone|\n",
      "|         8|       Queens|        Astoria Park|   Boro Zone|\n",
      "|         9|       Queens|          Auburndale|   Boro Zone|\n",
      "|        10|       Queens|        Baisley Park|   Boro Zone|\n",
      "|        11|     Brooklyn|          Bath Beach|   Boro Zone|\n",
      "|        12|    Manhattan|        Battery Park| Yellow Zone|\n",
      "|        13|    Manhattan|   Battery Park City| Yellow Zone|\n",
      "|        14|     Brooklyn|           Bay Ridge|   Boro Zone|\n",
      "|        15|       Queens|Bay Terrace/Fort ...|   Boro Zone|\n",
      "|        16|       Queens|             Bayside|   Boro Zone|\n",
      "|        17|     Brooklyn|             Bedford|   Boro Zone|\n",
      "|        18|        Bronx|        Bedford Park|   Boro Zone|\n",
      "|        19|       Queens|           Bellerose|   Boro Zone|\n",
      "|        20|        Bronx|             Belmont|   Boro Zone|\n",
      "+----------+-------------+--------------------+------------+\n",
      "only showing top 20 rows\n",
      "\n"
     ]
    }
   ],
   "source": [
    "df.show()"
   ]
  },
  {
   "cell_type": "code",
   "execution_count": 12,
   "id": "30b685e2-7dab-4cf1-9dd2-e8458891db5c",
   "metadata": {},
   "outputs": [
    {
     "data": {
      "text/plain": [
       "[Row(LocationID='1', Borough='EWR', Zone='Newark Airport', service_zone='EWR'),\n",
       " Row(LocationID='2', Borough='Queens', Zone='Jamaica Bay', service_zone='Boro Zone'),\n",
       " Row(LocationID='3', Borough='Bronx', Zone='Allerton/Pelham Gardens', service_zone='Boro Zone'),\n",
       " Row(LocationID='4', Borough='Manhattan', Zone='Alphabet City', service_zone='Yellow Zone'),\n",
       " Row(LocationID='5', Borough='Staten Island', Zone='Arden Heights', service_zone='Boro Zone')]"
      ]
     },
     "execution_count": 12,
     "metadata": {},
     "output_type": "execute_result"
    }
   ],
   "source": [
    "df.head(5)"
   ]
  },
  {
   "cell_type": "code",
   "execution_count": 13,
   "id": "138f8db5-a763-4b09-94ac-f69c4070fd69",
   "metadata": {},
   "outputs": [
    {
     "data": {
      "text/plain": [
       "StructType([StructField('LocationID', StringType(), True), StructField('Borough', StringType(), True), StructField('Zone', StringType(), True), StructField('service_zone', StringType(), True)])"
      ]
     },
     "execution_count": 13,
     "metadata": {},
     "output_type": "execute_result"
    }
   ],
   "source": [
    "df.schema"
   ]
  },
  {
   "cell_type": "code",
   "execution_count": 14,
   "id": "faf7204d-9a29-4c2c-9a96-999f16839c74",
   "metadata": {},
   "outputs": [
    {
     "name": "stdout",
     "output_type": "stream",
     "text": [
      "root\n",
      " |-- LocationID: string (nullable = true)\n",
      " |-- Borough: string (nullable = true)\n",
      " |-- Zone: string (nullable = true)\n",
      " |-- service_zone: string (nullable = true)\n",
      "\n"
     ]
    }
   ],
   "source": [
    "df.printSchema()"
   ]
  },
  {
   "cell_type": "code",
   "execution_count": 15,
   "id": "0e6717c4-3be5-497f-a0e0-4770eb35eee7",
   "metadata": {},
   "outputs": [],
   "source": [
    "selected_df = df.select(\"LocationID\", \"Borough\", \"Zone\").filter(df.Borough == \"Queens\")"
   ]
  },
  {
   "cell_type": "code",
   "execution_count": 16,
   "id": "dae7fbac-34e0-4725-a9bf-efd6cffe1087",
   "metadata": {},
   "outputs": [
    {
     "name": "stdout",
     "output_type": "stream",
     "text": [
      "+----------+-------+--------------------+\n",
      "|LocationID|Borough|                Zone|\n",
      "+----------+-------+--------------------+\n",
      "|         2| Queens|         Jamaica Bay|\n",
      "|         7| Queens|             Astoria|\n",
      "|         8| Queens|        Astoria Park|\n",
      "|         9| Queens|          Auburndale|\n",
      "|        10| Queens|        Baisley Park|\n",
      "|        15| Queens|Bay Terrace/Fort ...|\n",
      "|        16| Queens|             Bayside|\n",
      "|        19| Queens|           Bellerose|\n",
      "|        27| Queens|Breezy Point/Fort...|\n",
      "|        28| Queens|Briarwood/Jamaica...|\n",
      "|        30| Queens|       Broad Channel|\n",
      "|        38| Queens|     Cambria Heights|\n",
      "|        53| Queens|       College Point|\n",
      "|        56| Queens|              Corona|\n",
      "|        57| Queens|              Corona|\n",
      "|        64| Queens|          Douglaston|\n",
      "|        70| Queens|       East Elmhurst|\n",
      "|        73| Queens|       East Flushing|\n",
      "|        82| Queens|            Elmhurst|\n",
      "|        83| Queens|    Elmhurst/Maspeth|\n",
      "+----------+-------+--------------------+\n",
      "only showing top 20 rows\n",
      "\n"
     ]
    }
   ],
   "source": [
    "selected_df.show()"
   ]
  },
  {
   "cell_type": "code",
   "execution_count": 17,
   "id": "d27c2238-d4eb-4206-af1f-9ea0f7888f99",
   "metadata": {},
   "outputs": [
    {
     "data": {
      "text/plain": [
       "Row(LocationID='2', Borough='Queens', Zone='Jamaica Bay')"
      ]
     },
     "execution_count": 17,
     "metadata": {},
     "output_type": "execute_result"
    }
   ],
   "source": [
    "selected_df.head()"
   ]
  },
  {
   "cell_type": "code",
   "execution_count": 18,
   "id": "7ff7d17d-1ff7-4ead-93a4-e9258f1d3936",
   "metadata": {},
   "outputs": [
    {
     "data": {
      "text/plain": [
       "[Row(LocationID='2', Borough='Queens', Zone='Jamaica Bay'),\n",
       " Row(LocationID='7', Borough='Queens', Zone='Astoria'),\n",
       " Row(LocationID='8', Borough='Queens', Zone='Astoria Park'),\n",
       " Row(LocationID='9', Borough='Queens', Zone='Auburndale'),\n",
       " Row(LocationID='10', Borough='Queens', Zone='Baisley Park')]"
      ]
     },
     "execution_count": 18,
     "metadata": {},
     "output_type": "execute_result"
    }
   ],
   "source": [
    "selected_df.head(5)"
   ]
  },
  {
   "cell_type": "code",
   "execution_count": 19,
   "id": "48459c48-adc7-4372-bd1b-dbd74ff06ef1",
   "metadata": {},
   "outputs": [
    {
     "name": "stderr",
     "output_type": "stream",
     "text": [
      "/usr/local/spark/python/pyspark/sql/dataframe.py:329: FutureWarning: Deprecated in 2.0, use createOrReplaceTempView instead.\n",
      "  warnings.warn(\"Deprecated in 2.0, use createOrReplaceTempView instead.\", FutureWarning)\n"
     ]
    }
   ],
   "source": [
    "selected_df.registerTempTable(\"taxi_zone_data\")"
   ]
  },
  {
   "cell_type": "code",
   "execution_count": 20,
   "id": "1f057ba0-54e6-4431-bec5-33372ae6331e",
   "metadata": {},
   "outputs": [],
   "source": [
    "selected_df.createOrReplaceTempView(\"taxi_zone_data\")"
   ]
  },
  {
   "cell_type": "code",
   "execution_count": 21,
   "id": "7a5c63d5-d046-491c-90d9-cb7eca4ba2a3",
   "metadata": {},
   "outputs": [
    {
     "data": {
      "text/plain": [
       "DataFrame[LocationID: string, Borough: string, Zone: string]"
      ]
     },
     "execution_count": 21,
     "metadata": {},
     "output_type": "execute_result"
    }
   ],
   "source": [
    "spark.sql(\"\"\"\n",
    "    SELECT *\n",
    "    FROM taxi_zone_data\n",
    "    LIMIT 10;\n",
    "\"\"\")"
   ]
  },
  {
   "cell_type": "code",
   "execution_count": 22,
   "id": "21bdd4f2-82de-4c15-840f-e66a7daf5d1b",
   "metadata": {},
   "outputs": [
    {
     "name": "stdout",
     "output_type": "stream",
     "text": [
      "+----------+-------+--------------------+\n",
      "|LocationID|Borough|                Zone|\n",
      "+----------+-------+--------------------+\n",
      "|         2| Queens|         Jamaica Bay|\n",
      "|         7| Queens|             Astoria|\n",
      "|         8| Queens|        Astoria Park|\n",
      "|         9| Queens|          Auburndale|\n",
      "|        10| Queens|        Baisley Park|\n",
      "|        15| Queens|Bay Terrace/Fort ...|\n",
      "|        16| Queens|             Bayside|\n",
      "|        19| Queens|           Bellerose|\n",
      "|        27| Queens|Breezy Point/Fort...|\n",
      "|        28| Queens|Briarwood/Jamaica...|\n",
      "+----------+-------+--------------------+\n",
      "\n"
     ]
    }
   ],
   "source": [
    "spark.sql(\"\"\"\n",
    "    SELECT *\n",
    "    FROM taxi_zone_data\n",
    "    LIMIT 10;\n",
    "\"\"\").show()"
   ]
  },
  {
   "cell_type": "code",
   "execution_count": 23,
   "id": "7c069133-f100-451d-9ba5-17b9b85f250b",
   "metadata": {},
   "outputs": [
    {
     "data": {
      "text/plain": [
       "DataFrame[Zone: string, count: bigint]"
      ]
     },
     "execution_count": 23,
     "metadata": {},
     "output_type": "execute_result"
    }
   ],
   "source": [
    "selected_df.groupBy(\"Zone\").count()"
   ]
  },
  {
   "cell_type": "code",
   "execution_count": 24,
   "id": "9df78db6-5e49-4faa-9f2c-7a53289a8400",
   "metadata": {},
   "outputs": [
    {
     "name": "stdout",
     "output_type": "stream",
     "text": [
      "+--------------------+-----+\n",
      "|                Zone|count|\n",
      "+--------------------+-----+\n",
      "|              Corona|    2|\n",
      "|          Douglaston|    1|\n",
      "|           Rego Park|    1|\n",
      "|   Kew Gardens Hills|    1|\n",
      "|             Bayside|    1|\n",
      "|     Jackson Heights|    1|\n",
      "|Flushing Meadows-...|    1|\n",
      "|         Old Astoria|    1|\n",
      "|       Broad Channel|    1|\n",
      "|     Oakland Gardens|    1|\n",
      "|Springfield Garde...|    1|\n",
      "|            Flushing|    1|\n",
      "|       East Elmhurst|    1|\n",
      "|Long Island City/...|    1|\n",
      "|          Whitestone|    1|\n",
      "|Long Island City/...|    1|\n",
      "|       South Jamaica|    1|\n",
      "|           Glen Oaks|    1|\n",
      "|       Richmond Hill|    1|\n",
      "|   LaGuardia Airport|    1|\n",
      "+--------------------+-----+\n",
      "only showing top 20 rows\n",
      "\n"
     ]
    }
   ],
   "source": [
    "selected_df.groupBy(\"Zone\").count().show()"
   ]
  },
  {
   "cell_type": "code",
   "execution_count": 25,
   "id": "13befcb2-e28e-49ff-8866-d377d51e7e2c",
   "metadata": {},
   "outputs": [
    {
     "data": {
      "text/plain": [
       "DataFrame[Zone: string, count: bigint]"
      ]
     },
     "execution_count": 25,
     "metadata": {},
     "output_type": "execute_result"
    }
   ],
   "source": [
    "spark.sql(\"\"\"\n",
    "    SELECT Zone\n",
    "          ,COUNT(1) AS count\n",
    "    FROM taxi_zone_data\n",
    "    GROUP BY Zone;\n",
    "\"\"\")"
   ]
  },
  {
   "cell_type": "code",
   "execution_count": 26,
   "id": "cb6809c7-8a99-4f0e-ac71-9c011c04be29",
   "metadata": {},
   "outputs": [
    {
     "name": "stdout",
     "output_type": "stream",
     "text": [
      "+--------------------+-----+\n",
      "|                Zone|count|\n",
      "+--------------------+-----+\n",
      "|              Corona|    2|\n",
      "|          Douglaston|    1|\n",
      "|           Rego Park|    1|\n",
      "|   Kew Gardens Hills|    1|\n",
      "|             Bayside|    1|\n",
      "|     Jackson Heights|    1|\n",
      "|Flushing Meadows-...|    1|\n",
      "|         Old Astoria|    1|\n",
      "|       Broad Channel|    1|\n",
      "|     Oakland Gardens|    1|\n",
      "|Springfield Garde...|    1|\n",
      "|            Flushing|    1|\n",
      "|       East Elmhurst|    1|\n",
      "|Long Island City/...|    1|\n",
      "|          Whitestone|    1|\n",
      "|Long Island City/...|    1|\n",
      "|       South Jamaica|    1|\n",
      "|           Glen Oaks|    1|\n",
      "|       Richmond Hill|    1|\n",
      "|   LaGuardia Airport|    1|\n",
      "+--------------------+-----+\n",
      "only showing top 20 rows\n",
      "\n"
     ]
    }
   ],
   "source": [
    "spark.sql(\"\"\"\n",
    "    SELECT Zone\n",
    "          ,COUNT(1) AS count\n",
    "    FROM taxi_zone_data\n",
    "    GROUP BY Zone\n",
    "    ORDER BY 2 DESC;\n",
    "\"\"\").show()"
   ]
  },
  {
   "cell_type": "code",
   "execution_count": 27,
   "id": "6f3806f6-cfea-45e3-975b-23ef5c137a6b",
   "metadata": {},
   "outputs": [
    {
     "data": {
      "text/plain": [
       "['LocationID', 'Borough', 'Zone']"
      ]
     },
     "execution_count": 27,
     "metadata": {},
     "output_type": "execute_result"
    }
   ],
   "source": [
    "selected_df.columns"
   ]
  }
 ],
 "metadata": {
  "kernelspec": {
   "display_name": "Python 3 (ipykernel)",
   "language": "python",
   "name": "python3"
  },
  "language_info": {
   "codemirror_mode": {
    "name": "ipython",
    "version": 3
   },
   "file_extension": ".py",
   "mimetype": "text/x-python",
   "name": "python",
   "nbconvert_exporter": "python",
   "pygments_lexer": "ipython3",
   "version": "3.11.6"
  }
 },
 "nbformat": 4,
 "nbformat_minor": 5
}
